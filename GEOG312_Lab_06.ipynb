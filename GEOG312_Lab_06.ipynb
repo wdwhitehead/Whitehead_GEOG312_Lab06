{
  "cells": [
    {
      "cell_type": "markdown",
      "metadata": {
        "id": "ozKLZSA-ne4T"
      },
      "source": [
        "[![image](https://colab.research.google.com/assets/colab-badge.svg)](https://colab.research.google.com/github/giswqs/geog-312/blob/master/labs/lab_06.ipynb)\n",
        "[![image](https://binder.pangeo.io/badge_logo.svg)](https://gishub.org/geog312-pangeo)\n",
        "\n",
        "**Will Whitehead**"
      ]
    },
    {
      "cell_type": "code",
      "execution_count": 17,
      "metadata": {
        "id": "-D5C2U23ne4V",
        "colab": {
          "base_uri": "https://localhost:8080/"
        },
        "outputId": "2b2fbc6f-3ed6-4698-b91e-5f8af4f9fd67"
      },
      "outputs": [
        {
          "output_type": "stream",
          "name": "stdout",
          "text": [
            "Submitted time: 2023-12-08 02:07:07.082884\n"
          ]
        }
      ],
      "source": [
        "from datetime import datetime\n",
        "\n",
        "now = datetime.now()\n",
        "print(f\"Submitted time: {now}\")\n",
        "from random import randint"
      ]
    },
    {
      "cell_type": "markdown",
      "metadata": {
        "id": "2nAYUAQ9ne4W"
      },
      "source": [
        "## Question 1\n",
        "**Message:** Write a function called `display_message()` that prints one sentence telling everyone what you are learning about in this chapter. Call the function, and make sure the message displays correctly."
      ]
    },
    {
      "cell_type": "code",
      "execution_count": null,
      "metadata": {
        "colab": {
          "base_uri": "https://localhost:8080/"
        },
        "id": "6XGD2twsne4W",
        "outputId": "b198f157-533a-462f-9dc1-02c522032bfa"
      },
      "outputs": [
        {
          "output_type": "stream",
          "name": "stdout",
          "text": [
            "In this chapter, we learn how to define, call, and use functions, as well as pass information and group them together in modules.\n"
          ]
        }
      ],
      "source": [
        "def display_message():\n",
        "  \"\"\"displays what is being learned in the chapter\"\"\"\n",
        "  print(\"In this chapter, we learn how to define, call, and use functions, as well as pass information and group them together in modules.\")\n",
        "\n",
        "display_message()"
      ]
    },
    {
      "cell_type": "markdown",
      "metadata": {
        "id": "IlJStPJwne4W"
      },
      "source": [
        "## Question 2\n",
        "**Favorite Book:** Write a function called `favorite_book()` that accepts one parameter, title. The function should print a message, such as `One of my favorite books is Alice in Wonderland`. Call the function, making sure to include a book title as an argument in the function call."
      ]
    },
    {
      "cell_type": "code",
      "execution_count": null,
      "metadata": {
        "colab": {
          "base_uri": "https://localhost:8080/"
        },
        "id": "w5l_aezYne4W",
        "outputId": "d8f0b472-8bee-4230-b243-3b5bdb603423"
      },
      "outputs": [
        {
          "output_type": "stream",
          "name": "stdout",
          "text": [
            "My favorite book is The Wizard of Oz.\n"
          ]
        }
      ],
      "source": [
        "def favorite_book(book_title):\n",
        "  print(f'My favorite book is {book_title}.')\n",
        "\n",
        "favorite_book('The Wizard of Oz')"
      ]
    },
    {
      "cell_type": "markdown",
      "metadata": {
        "id": "AAJAahUMne4W"
      },
      "source": [
        "## Question 3\n",
        "**T-Shirt:** Write a function called `make_shirt()` that accepts a size and the text of a message that should be printed on the shirt. The function should print a sentence summarizing the size of the shirt and the message printed on it.\n",
        "\n",
        "Call the function once using positional arguments to make a shirt. Call the function a second time using keyword arguments."
      ]
    },
    {
      "cell_type": "code",
      "execution_count": null,
      "metadata": {
        "colab": {
          "base_uri": "https://localhost:8080/"
        },
        "id": "KbmORtoSne4W",
        "outputId": "a897e0e0-4372-4137-a99c-e306e706a8b1"
      },
      "outputs": [
        {
          "output_type": "stream",
          "name": "stdout",
          "text": [
            "This is a large shirt that says \"Metallica\" on the front.\n"
          ]
        }
      ],
      "source": [
        "def make_shirt(size, text):\n",
        "  print(f'This is a {size} shirt that says \"{text}\" on the front.')\n",
        "\n",
        "make_shirt('large', 'Metallica')"
      ]
    },
    {
      "cell_type": "markdown",
      "metadata": {
        "id": "evvRG8JVne4W"
      },
      "source": [
        "## Question 4\n",
        "**Large Shirts:** Modify the `make_shirt()` function so that shirts are large by default with a message that reads *I love Python*. Make a large shirt and a medium shirt with the default message, and a shirt of any size with a different message."
      ]
    },
    {
      "cell_type": "code",
      "execution_count": null,
      "metadata": {
        "id": "lapFYTlane4X"
      },
      "outputs": [],
      "source": [
        "def make_shirt(size='large', text='I love Python'):\n",
        "  print(f'This is a {size} shirt that says \"{text}\" on the front.')\n",
        "\n",
        "make_shirt()\n",
        "make_shirt('medium')\n",
        "make_shirt(text='Metallica')"
      ]
    },
    {
      "cell_type": "markdown",
      "metadata": {
        "id": "bw944Q-xne4X"
      },
      "source": [
        "## Question 5\n",
        "**Cities:** Write a function called `describe_city()` that accepts the name of a city and its country. The function should print a simple sentence, such as `Reykjavik is in Iceland`. Give the parameter for the country a default value. Call your function for three different cities, at least one of which is not in the default country."
      ]
    },
    {
      "cell_type": "code",
      "execution_count": null,
      "metadata": {
        "id": "VbI-GVqGne4X"
      },
      "outputs": [],
      "source": [
        "def describe_city(city, country='America'):\n",
        "  print(f'{city} is in {country}.')\n",
        "\n",
        "describe_city('Dallas')\n",
        "describe_city('Nashville')\n",
        "describe_city('London')"
      ]
    },
    {
      "cell_type": "markdown",
      "metadata": {
        "id": "aOclmqdcne4X"
      },
      "source": [
        "## Question 6\n",
        "**City Names:** Write a function called `city_country()` that takes in the name of a city and its country. The function should return a string formatted like this:\n",
        "```\n",
        "Santiago, Chile\n",
        "```\n",
        "Call your function with at least three city-country pairs, and print the values that are returned."
      ]
    },
    {
      "cell_type": "code",
      "execution_count": null,
      "metadata": {
        "id": "MHct5Gukne4X"
      },
      "outputs": [],
      "source": [
        "def city_country(city, country):\n",
        "  print(f'{city.title()}, {country.title()}')\n",
        "\n",
        "city_country('santiago', 'chile')\n",
        "city_country('london', 'united kingdom')\n",
        "city_country('sao paulo', 'brazil')"
      ]
    },
    {
      "cell_type": "markdown",
      "metadata": {
        "id": "NO4TCTFbne4X"
      },
      "source": [
        "## Question 7\n",
        "**Album:** Write a function called `make_album()` that builds a dictionary describing a music album. The function should take in an artist name and an album title, and it should return a dictionary containing these two pieces of information. Use the function to make three dictionaries representing different albums. Print each return value to show that the dictionaries are storing the album information correctly.\n",
        "\n",
        "Use None to add an optional parameter to make_album() that allows you to store the number of songs on an album. If the calling line includes a value for the number of songs, add that value to the album’s dictionary. Make at least one new function call that includes the number of songs on an album."
      ]
    },
    {
      "cell_type": "code",
      "execution_count": null,
      "metadata": {
        "id": "aC1Wx8rlne4Y"
      },
      "outputs": [],
      "source": [
        "def make_album(name, title, songs=''):\n",
        "  album_info = {'title': title, 'artist name': name, \"number of songs\": songs}\n",
        "  return album_info\n",
        "\n",
        "album = make_album('Pink Floyd', 'Dark Side of the Moon')\n",
        "print(album)\n",
        "album = make_album('Electric Light Orchestra','Out of the Blue', '17' )\n",
        "print(album)\n",
        "album = make_album('The Beatles','Magical Mystery Tour' )\n",
        "print(album)"
      ]
    },
    {
      "cell_type": "markdown",
      "metadata": {
        "id": "BlFaVJA3ne4Y"
      },
      "source": [
        "## Question 8\n",
        "**User Albums:** Start with your program from Question 7. Write a `while` loop that allows users to enter an album’s artist and title. Once you have that information, call `make_album()` with the user’s input and print the dictionary that’s created. Be sure to include a quit value in the `while` loop."
      ]
    },
    {
      "cell_type": "code",
      "execution_count": null,
      "metadata": {
        "id": "nGNlJX2one4Y"
      },
      "outputs": [],
      "source": [
        "def make_album(name, title,):\n",
        "  album_info = {'title': title, 'artist name': name,}\n",
        "  return album_info\n",
        "\n",
        "artist_name = ''\n",
        "album_title = ''\n",
        "name_prompt = \"Please enter the artist's name.\"\n",
        "title_prompt = \"Please enter the album's title.\"\n",
        "while artist_name == '':\n",
        "  artist_name = input(name_prompt)\n",
        "while album_title == '':\n",
        "  album_title = input(title_prompt)\n",
        "\n",
        "album = make_album(artist_name, album_title)\n",
        "print(album)\n"
      ]
    },
    {
      "cell_type": "markdown",
      "metadata": {
        "id": "LK4B2_p0ne4Y"
      },
      "source": [
        "## Question 9\n",
        "**Messages:** Make a list containing a series of short text messages. Pass the list to a function called `show_messages()`, which prints each text message."
      ]
    },
    {
      "cell_type": "code",
      "execution_count": null,
      "metadata": {
        "id": "hyPp5cLrne4Y"
      },
      "outputs": [],
      "source": [
        "message_list = ['This is a message.', 'This is also a message', 'This is... not a message.']\n",
        "\n",
        "def show_messages():\n",
        "  for message in message_list:\n",
        "    print(message)\n",
        "\n",
        "show_messages()"
      ]
    },
    {
      "cell_type": "markdown",
      "metadata": {
        "id": "2nTc7LSSne4Y"
      },
      "source": [
        "## Question 10\n",
        "**Sending Messages:** Start with a copy of your program from Question 9. Write a function called `send_messages()` that prints each text message and moves each message to a new list called `sent_messages` as it’s printed. After calling the function, print both of your lists to make sure the messages were moved correctly."
      ]
    },
    {
      "cell_type": "code",
      "execution_count": null,
      "metadata": {
        "colab": {
          "base_uri": "https://localhost:8080/"
        },
        "id": "aXfXgS8nne4Y",
        "outputId": "0c8fe8a9-35c4-42ce-b84c-ad55e8f37ac9"
      },
      "outputs": [
        {
          "output_type": "stream",
          "name": "stdout",
          "text": [
            "This is a message.\n",
            "This is also a message\n",
            "This is... not a message.\n",
            "[]\n",
            "['This is a message.', 'This is also a message', 'This is... not a message.']\n"
          ]
        }
      ],
      "source": [
        "message_list = ['This is a message.', 'This is also a message', 'This is... not a message.']\n",
        "sent_messages = []\n",
        "def send_messages():\n",
        "  for message in message_list:\n",
        "    print(message)\n",
        "    sent_messages.append(message)\n",
        "  message_list[:] = []\n",
        "\n",
        "send_messages()\n",
        "\n",
        "print(message_list)\n",
        "print(sent_messages)"
      ]
    },
    {
      "cell_type": "markdown",
      "metadata": {
        "id": "A2h6HxSmne4Y"
      },
      "source": [
        "## Question 11\n",
        "**Archived Messages:** Start with your work from Question 10. Call the function `send_messages()` with a copy of the list of messages. After calling the function, print both of your lists to show that the original list has retained its messages."
      ]
    },
    {
      "cell_type": "code",
      "execution_count": null,
      "metadata": {
        "colab": {
          "base_uri": "https://localhost:8080/"
        },
        "id": "IFbntLGKne4Y",
        "outputId": "23ebfa78-7b17-41fc-ff3b-0a77d9492b53"
      },
      "outputs": [
        {
          "output_type": "stream",
          "name": "stdout",
          "text": [
            "This is a message.\n",
            "This is also a message\n",
            "This is... not a message.\n",
            "['This is a message.', 'This is also a message', 'This is... not a message.']\n",
            "['This is a message.', 'This is also a message', 'This is... not a message.']\n"
          ]
        }
      ],
      "source": [
        "message_list = ['This is a message.', 'This is also a message', 'This is... not a message.']\n",
        "sent_messages = []\n",
        "def send_messages():\n",
        "  for message in message_list:\n",
        "    print(message)\n",
        "    sent_messages.append(message)\n",
        "  #message_list[:] = [] #I am not really sure what the question is asking me to do here, but I think commenting out this line should have the same end result.\n",
        "\n",
        "send_messages()\n",
        "\n",
        "print(message_list)\n",
        "print(sent_messages)"
      ]
    },
    {
      "cell_type": "markdown",
      "metadata": {
        "id": "Z9aFdWf6ne4Z"
      },
      "source": [
        "## Question 12\n",
        "**Sandwiches:** Write a function that accepts a list of items a person wants on a sandwich. The function should have one parameter that collects as many items as the function call provides, and it should print a summary of the sandwich that’s being ordered. Call the function three times, using a different number of arguments each time."
      ]
    },
    {
      "cell_type": "code",
      "execution_count": null,
      "metadata": {
        "colab": {
          "base_uri": "https://localhost:8080/"
        },
        "id": "OuPx4Er9ne4Z",
        "outputId": "91afb80b-81be-444e-c296-875947f05399"
      },
      "outputs": [
        {
          "output_type": "stream",
          "name": "stdout",
          "text": [
            "\n",
            "SANDWICH INGREDIENTS:\n",
            "-salami-\n",
            "-mayo-\n",
            "-banana peppers-\n",
            "\n",
            "SANDWICH INGREDIENTS:\n",
            "-salami-\n",
            "-pepperoni-\n",
            "\n",
            "SANDWICH INGREDIENTS:\n",
            "-chicken-\n",
            "-provolone-\n"
          ]
        }
      ],
      "source": [
        "def sandwich_order(*items):\n",
        "  print('\\nSANDWICH INGREDIENTS:')\n",
        "  for item in items:\n",
        "    print(f\"-{item}-\")\n",
        "\n",
        "sandwich_order('salami', 'mayo', 'banana peppers')\n",
        "sandwich_order('salami', 'pepperoni')\n",
        "sandwich_order('chicken', 'provolone')"
      ]
    },
    {
      "cell_type": "markdown",
      "metadata": {
        "id": "QsVYXx92ne4Z"
      },
      "source": [
        "## Question 13\n",
        "**Cars:** Write a function that stores information about a car in a dictionary. The function should always receive a manufacturer and a model name. It should then accept an arbitrary number of keyword arguments. Call the function with the required information and two other name-value pairs, such as a color or an optional feature. Your function should work for a call like this one:\n",
        "```\n",
        "car = make_car('subaru', 'outback', color='blue', tow_package=True)\n",
        "```\n",
        "Print the dictionary that’s returned to make sure all the information was stored correctly."
      ]
    },
    {
      "cell_type": "code",
      "execution_count": null,
      "metadata": {
        "colab": {
          "base_uri": "https://localhost:8080/"
        },
        "id": "zGPsCadSne4Z",
        "outputId": "f1b1b5cf-1947-45c2-9e1c-897942db1801"
      },
      "outputs": [
        {
          "output_type": "stream",
          "name": "stdout",
          "text": [
            "{'color': 'blue', 'tow_package': True, 'manufacturer': 'subaru', 'model': 'outback'}\n"
          ]
        }
      ],
      "source": [
        "def make_car(manufacturer, model, **car_info):\n",
        "  car_info['manufacturer'] = manufacturer\n",
        "  car_info['model'] = model\n",
        "  return car_info\n",
        "\n",
        "car = make_car('subaru', 'outback', color='blue', tow_package=True)\n",
        "print(car)"
      ]
    },
    {
      "cell_type": "markdown",
      "metadata": {
        "id": "ZgLtme8Rne4Z"
      },
      "source": [
        "## Question 14\n",
        "**Restaurant:** Make a class called `Restaurant`. The `__init__()` method for `Restaurant` should store two attributes: a `restaurant_name` and a `cuisine_type`. Make a method called `describe_restaurant()` that prints these two pieces of information, and a method called `open_restaurant()` that prints a message indicating that the restaurant is open.\n",
        "\n",
        "Make an instance called `restaurant` from your class. Print the two attributes individually, and then call both methods."
      ]
    },
    {
      "cell_type": "code",
      "execution_count": 6,
      "metadata": {
        "id": "68oL0cC8ne4Z",
        "colab": {
          "base_uri": "https://localhost:8080/"
        },
        "outputId": "81b0d061-1422-4fea-95b3-fc7fd7aabf18"
      },
      "outputs": [
        {
          "output_type": "stream",
          "name": "stdout",
          "text": [
            "Bambino's, pizza and pasta\n",
            "Bambino's is now open!\n"
          ]
        }
      ],
      "source": [
        "class Restaurant:\n",
        "  def __init__(self, restaurant_name, cuisine_type):\n",
        "    self.restaurant_name = restaurant_name\n",
        "    self.cuisine_type = cuisine_type\n",
        "\n",
        "  def describe_restaurant(self):\n",
        "    print(f'{self.restaurant_name}, {self.cuisine_type}')\n",
        "\n",
        "  def open_restaurant(self):\n",
        "    print(f'{self.restaurant_name} is now open!')\n",
        "\n",
        "restaurant = Restaurant(\"Bambino's\", 'pizza and pasta')\n",
        "\n",
        "restaurant.describe_restaurant()\n",
        "restaurant.open_restaurant()"
      ]
    },
    {
      "cell_type": "markdown",
      "metadata": {
        "id": "qIDZ0Clnne4Z"
      },
      "source": [
        "## Question 15\n",
        "**Three Restaurants:** Start with your class from Question 14. Create three different instances from the class, and call `describe_restaurant()` for each instance."
      ]
    },
    {
      "cell_type": "code",
      "execution_count": 7,
      "metadata": {
        "id": "av6SuS4Lne4Z",
        "colab": {
          "base_uri": "https://localhost:8080/"
        },
        "outputId": "88ca3613-b238-4a04-9425-b3cdd7c1ea0a"
      },
      "outputs": [
        {
          "output_type": "stream",
          "name": "stdout",
          "text": [
            "Bambino's, pizza and pasta\n",
            "McDonalds, fast food\n",
            "Cafe Broche, coffee and pastries\n"
          ]
        }
      ],
      "source": [
        "class Restaurant:\n",
        "  def __init__(self, restaurant_name, cuisine_type):\n",
        "    self.restaurant_name = restaurant_name\n",
        "    self.cuisine_type = cuisine_type\n",
        "\n",
        "  def describe_restaurant(self):\n",
        "    print(f'{self.restaurant_name}, {self.cuisine_type}')\n",
        "\n",
        "  def open_restaurant(self):\n",
        "    print(f'{self.restaurant_name} is now open!')\n",
        "\n",
        "restaurant1 = Restaurant(\"Bambino's\", 'pizza and pasta')\n",
        "restaurant2 = Restaurant('McDonalds', 'fast food')\n",
        "restaurant3 = Restaurant('Cafe Broche', 'coffee and pastries')\n",
        "\n",
        "restaurant1.describe_restaurant()\n",
        "restaurant2.describe_restaurant()\n",
        "restaurant3.describe_restaurant()"
      ]
    },
    {
      "cell_type": "markdown",
      "metadata": {
        "id": "yAckVsoLne4Z"
      },
      "source": [
        "## Question 16\n",
        "**Users:** Make a class called `User`. Create two attributes called `first_name` and `last_name`, and then create several other attributes that are typically stored in a user profile. Make a method called `describe_user()` that prints a summary of the user’s information. Make another method called `greet_user()` that prints a personalized greeting to the user.\n",
        "\n",
        "Create several instances representing different users, and call both methods for each user."
      ]
    },
    {
      "cell_type": "code",
      "execution_count": 9,
      "metadata": {
        "id": "V4D1CRATne4Z",
        "colab": {
          "base_uri": "https://localhost:8080/"
        },
        "outputId": "08baa0b2-9a1f-4f37-9c9c-0881bf4f23cc"
      },
      "outputs": [
        {
          "output_type": "stream",
          "name": "stdout",
          "text": [
            "Will, Whitehead, Username: wwhitehead, Age: 22\n",
            "Alex, Austin, Username: aaustin, Age: 22\n",
            "Natalie, Dale, Username: ndale, Age: 21\n",
            "Hi, Will, welcome to the website!\n",
            "Hi, Alex, welcome to the website!\n",
            "Hi, Natalie, welcome to the website!\n"
          ]
        }
      ],
      "source": [
        "class User:\n",
        "  def __init__(self, first_name, last_name, username, age):\n",
        "    self.first_name = first_name\n",
        "    self.last_name = last_name\n",
        "    self.username = username\n",
        "    self.age = age\n",
        "\n",
        "  def describe_user(self):\n",
        "    print(f'{self.first_name}, {self.last_name}, Username: {self.username}, Age: {self.age}')\n",
        "\n",
        "  def greet_user(self):\n",
        "    print(f'Hi, {self.first_name.title()}, welcome to the website!')\n",
        "\n",
        "user1 = User('Will', 'Whitehead', 'wwhitehead', 22)\n",
        "user2 = User('Alex', 'Austin', 'aaustin', 22)\n",
        "user3 = User('Natalie', 'Dale', 'ndale', 21)\n",
        "\n",
        "user1.describe_user()\n",
        "user2.describe_user()\n",
        "user3.describe_user()\n",
        "\n",
        "user1.greet_user()\n",
        "user2.greet_user()\n",
        "user3.greet_user()"
      ]
    },
    {
      "cell_type": "markdown",
      "metadata": {
        "id": "7mXYjkAFne4a"
      },
      "source": [
        "## Question 17\n",
        "**Number Served:** Start with your program from Question 14. Add an attribute called `number_served` with a default value of 0. Create an instance called `restaurant` from this class. Print the number of customers the restaurant has served, and then change this value and print it again.\n",
        "\n",
        "Add a method called `set_number_served()` that lets you set the number of customers that have been served. Call this method with a new number and print the value again.\n",
        "\n",
        "Add a method called `increment_number_served()` that lets you increment the number of customers who’ve been served.\n",
        "\n",
        "Call this method with any number you like that could represent how many customers were served in, say, a day of business."
      ]
    },
    {
      "cell_type": "code",
      "execution_count": 12,
      "metadata": {
        "id": "Z27g0ymnne4a",
        "colab": {
          "base_uri": "https://localhost:8080/"
        },
        "outputId": "e4fab809-0faf-4c66-e54e-bb9fea237096"
      },
      "outputs": [
        {
          "output_type": "stream",
          "name": "stdout",
          "text": [
            "Number Served: 10\n",
            "Number Served: 15\n"
          ]
        }
      ],
      "source": [
        "class Restaurant:\n",
        "  def __init__(self, restaurant_name, cuisine_type, *number_served):\n",
        "    self.restaurant_name = restaurant_name\n",
        "    self.cuisine_type = cuisine_type\n",
        "    self.number_served = 0\n",
        "\n",
        "  def describe_restaurant(self):\n",
        "    print(f'{self.restaurant_name}, {self.cuisine_type}')\n",
        "\n",
        "  def open_restaurant(self):\n",
        "    print(f'{self.restaurant_name} is now open!')\n",
        "\n",
        "  def set_number_served(self, number):\n",
        "    self.number_served = number\n",
        "    print(f'Number Served: {self.number_served}')\n",
        "\n",
        "  def increment_number_served(self, number):\n",
        "    self.number_served += number\n",
        "    print(f'Number Served: {self.number_served}')\n",
        "\n",
        "\n",
        "restaurant = Restaurant(\"Bambino's\", 'pizza and pasta')\n",
        "\n",
        "restaurant.set_number_served(10)\n",
        "restaurant.increment_number_served(5)"
      ]
    },
    {
      "cell_type": "markdown",
      "metadata": {
        "id": "Elub18Xune4a"
      },
      "source": [
        "## Question 18\n",
        "**Login Attempts:** Add an attribute called login_attempts to your User class from Question 16. Write a method called `increment_login_attempts()` that increments the value of `login_attempts` by 1. Write another method called `reset_login_attempts()` that resets the value of login_attempts to 0.\n",
        "\n",
        "Make an instance of the `User` class and call `increment_login_attempts()` several times. Print the value of `login_attempts` to make sure it was incremented properly, and then call `reset_login_attempts()`. Print `login_attempts` again to make sure it was reset to 0."
      ]
    },
    {
      "cell_type": "code",
      "execution_count": 15,
      "metadata": {
        "id": "s6OzURlUne4a",
        "colab": {
          "base_uri": "https://localhost:8080/"
        },
        "outputId": "81cdb694-78af-4501-c053-e9ea8595ed88"
      },
      "outputs": [
        {
          "output_type": "stream",
          "name": "stdout",
          "text": [
            "Login Attempts: 1\n",
            "Login attempts reset.\n",
            "Login Attempts: 0\n"
          ]
        }
      ],
      "source": [
        "class User:\n",
        "  def __init__(self, first_name, last_name, username, age, *login_attempts):\n",
        "    self.first_name = first_name\n",
        "    self.last_name = last_name\n",
        "    self.username = username\n",
        "    self.age = age\n",
        "    self.login_attempts = 0\n",
        "  def describe_user(self):\n",
        "    print(f'{self.first_name}, {self.last_name}, Username: {self.username}, Age: {self.age}')\n",
        "\n",
        "  def greet_user(self):\n",
        "    print(f'Hi, {self.first_name.title()}, welcome to the website!')\n",
        "\n",
        "  def increment_login_attempts(self):\n",
        "    self.login_attempts += 1\n",
        "    print(f'Login Attempts: {self.login_attempts}')\n",
        "\n",
        "  def reset_login_attempts(self):\n",
        "    self.login_attempts = 0\n",
        "    print('Login attempts reset.')\n",
        "    print(f'Login Attempts: {self.login_attempts}')\n",
        "\n",
        "user1 = User('Will', 'Whitehead', 'wwhitehead', 22)\n",
        "\n",
        "user1.increment_login_attempts()\n",
        "user1.reset_login_attempts()\n",
        "\n"
      ]
    },
    {
      "cell_type": "markdown",
      "metadata": {
        "id": "isU0c5ssne4a"
      },
      "source": [
        "## Question 19\n",
        "**Dice:** Make a class `Die` with one attribute called `sides`, which has a default value of 6. Write a method called `roll_die()` that prints a random number between 1 and the number of sides the die has. Make a 6-sided die and roll it 10 times.\n",
        "\n",
        "Make a 10-sided die and a 20-sided die. Roll each die 10 times."
      ]
    },
    {
      "cell_type": "code",
      "execution_count": 36,
      "metadata": {
        "id": "SezF1FHRne4a",
        "colab": {
          "base_uri": "https://localhost:8080/"
        },
        "outputId": "59f2bc7b-9703-44f8-f4a9-bf7be82ce3a3"
      },
      "outputs": [
        {
          "output_type": "stream",
          "name": "stdout",
          "text": [
            "3\n",
            "1\n",
            "1\n",
            "4\n",
            "6\n",
            "5\n",
            "6\n",
            "4\n",
            "2\n",
            "5\n",
            "3\n",
            "2\n",
            "4\n",
            "10\n",
            "1\n",
            "3\n",
            "1\n",
            "8\n",
            "4\n",
            "6\n",
            "3\n",
            "18\n",
            "6\n",
            "3\n",
            "19\n",
            "19\n",
            "16\n",
            "3\n",
            "13\n",
            "12\n"
          ]
        }
      ],
      "source": [
        "class Die:\n",
        "  def __init__(self, sides):\n",
        "    self.sides = sides\n",
        "\n",
        "  def roll_die(self):\n",
        "    print(randint(1, self.sides))\n",
        "\n",
        "d6 = Die(6)\n",
        "d10 = Die(10)\n",
        "d20 = Die(20)\n",
        "\n",
        "for die in range(10):\n",
        "  d6.roll_die()\n",
        "\n",
        "for die in range(10):\n",
        "  d10.roll_die()\n",
        "\n",
        "for die in range(10):\n",
        "  d20.roll_die()\n",
        "\n"
      ]
    },
    {
      "cell_type": "markdown",
      "metadata": {
        "id": "bA1i5pOfne4a"
      },
      "source": [
        "## Question 20\n",
        "**Lottery:** Make a list or tuple containing a series of 10 numbers and five letters. Randomly select four numbers or letters from the list and print a message saying that any ticket matching these four numbers or letters wins a prize.\n",
        "\n",
        "You can use a loop to see how hard it might be to win the kind of lottery you just modeled. Make a list or tuple called `my_ticket`. Write a loop that keeps pulling numbers until your ticket wins. Print a message reporting how many times the loop had to run to give you a winning ticket."
      ]
    },
    {
      "cell_type": "code",
      "execution_count": null,
      "metadata": {
        "id": "kPIJrWN-ne4b"
      },
      "outputs": [],
      "source": [
        "from random import choice\n",
        "lottery = (0,1,2,3,4,5,6,7,8,9,'a','b','c','d','e')\n",
        "winning_ticket = [choice(lottery),choice(lottery),choice(lottery),choice(lottery)]\n",
        "print(f'Winning Ticket: {winning_ticket}')\n",
        "ticket = []\n",
        "def ticket_pull():\n",
        "  ticket = [choice(lottery),choice(lottery),choice(lottery),choice(lottery)]\n",
        "ticket_pulls = 0\n",
        "while ticket != winning_ticket:\n",
        "  ticket_pull()\n",
        "  ticket_pulls += 1\n",
        "print(ticket_pulls)"
      ]
    }
  ],
  "metadata": {
    "kernelspec": {
      "display_name": "Python 3 (ipykernel)",
      "language": "python",
      "name": "python3"
    },
    "language_info": {
      "codemirror_mode": {
        "name": "ipython",
        "version": 3
      },
      "file_extension": ".py",
      "mimetype": "text/x-python",
      "name": "python",
      "nbconvert_exporter": "python",
      "pygments_lexer": "ipython3",
      "version": "3.8.10"
    },
    "colab": {
      "provenance": []
    }
  },
  "nbformat": 4,
  "nbformat_minor": 0
}